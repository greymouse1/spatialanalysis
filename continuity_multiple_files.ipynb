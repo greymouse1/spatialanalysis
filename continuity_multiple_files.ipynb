{
  "nbformat": 4,
  "nbformat_minor": 0,
  "metadata": {
    "colab": {
      "provenance": [],
      "gpuType": "T4",
      "mount_file_id": "1xbXzegy5T8chWNZ4rd3FNE0JPQSu2K5f",
      "authorship_tag": "ABX9TyN46W0RaZvRGMGaR2PyhZVG",
      "include_colab_link": true
    },
    "kernelspec": {
      "name": "python3",
      "display_name": "Python 3"
    },
    "language_info": {
      "name": "python"
    },
    "accelerator": "GPU"
  },
  "cells": [
    {
      "cell_type": "markdown",
      "metadata": {
        "id": "view-in-github",
        "colab_type": "text"
      },
      "source": [
        "<a href=\"https://colab.research.google.com/github/greymouse1/spatialanalysis/blob/main/continuity_multiple_files.ipynb\" target=\"_parent\"><img src=\"https://colab.research.google.com/assets/colab-badge.svg\" alt=\"Open In Colab\"/></a>"
      ]
    },
    {
      "cell_type": "markdown",
      "source": [
        "Code is licenced under MIT licence.\n",
        "\n",
        "Author: Nikola G.\n",
        "\n",
        "Credits:\n",
        "\n",
        "Tutorial from Momepy package website at http://docs.momepy.org/en/stable/user_guide/graph/coins.html\n",
        "based on paper by Tripathy et al. (2020)\n",
        "\n",
        "OpenAI. (2024). ChatGPT (version 4) [Large language model]. OpenAI. https://openai.com/chatgpt\n",
        "\n",
        "\n",
        "\n",
        "Tripathy, P., Rao, P., Balakrishnan, K., & Malladi, T. (2020). An open-source tool to extract natural continuity and hierarchy of urban street networks. Environment and Planning B: Urban Analytics and City Science. http://dx.doi.org/10.1177/2399808320967680"
      ],
      "metadata": {
        "id": "D9-uae52ZshA"
      }
    },
    {
      "cell_type": "code",
      "execution_count": null,
      "metadata": {
        "id": "5Gs0eOwbHEqN"
      },
      "outputs": [],
      "source": [
        "!pip install osmnx > /dev/null 2>&1\n",
        "!pip install momepy > /dev/null 2>&1\n",
        "!pip install mapclassify>=2.4.0 > /dev/null 2>&1 # install mapclassify with version >=2.4.0\n",
        "import osmnx as ox\n",
        "import geopandas as gpd\n",
        "import momepy\n",
        "import mapclassify\n",
        "import matplotlib.pyplot as plt\n",
        "import pandas as pd\n",
        "import os"
      ]
    },
    {
      "cell_type": "code",
      "source": [
        "def naturalCities(currentCity,folderPath,cityName):\n",
        "  # Retrieve the graph within the polygon's boundaries\n",
        "  # This will pull OSM data from inside the polygon and create a networkX graph\n",
        "\n",
        "  graph = ox.graph_from_polygon(\n",
        "      currentCity,\n",
        "      network_type='drive',  # Choose network type (e.g., 'drive', 'walk', 'bike', etc.)\n",
        "      simplify=True,         # Simplify graph (remove unnecessary nodes)\n",
        "      retain_all=False,      # Keep only the largest connected component\n",
        "      truncate_by_edge=False  # Truncate by edge to keep nodes near the edge\n",
        "  )\n",
        "\n",
        "  # Reproject graph\n",
        "  # Choice of final projection is automatic, original must be WGS84\n",
        "\n",
        "  bandung_streets = ox.projection.project_graph(graph)\n",
        "\n",
        "  # Create gdf from graph so it can be used later on\n",
        "\n",
        "  bandung_gdf = ox.graph_to_gdfs(\n",
        "      ox.convert.to_undirected(bandung_streets),\n",
        "      nodes=False,\n",
        "      edges=True,\n",
        "      node_geometry=False,\n",
        "      fill_edge_geometry=True,\n",
        "  )\n",
        "\n",
        "  # Calculate continuity from the gdf\n",
        "\n",
        "  continuity = momepy.COINS(bandung_gdf, angle_threshold=135, flow_mode=False)\n",
        "\n",
        "  # Pull out stroke\n",
        "\n",
        "  bandung_stroke_gdf = continuity.stroke_gdf()\n",
        "\n",
        "  # Save stroke to .shp\n",
        "  shapefile_path = os.path.join(folderPath, f\"polygon_{cityName}.shp\")\n",
        "  bandung_stroke_gdf.to_file(shapefile_path)\n",
        "\n",
        "  # Pull n_segments out of the gdf\n",
        "  n_segments = bandung_stroke_gdf['n_segments']\n",
        "\n",
        "  # Calculate heavy tailed classification\n",
        "  classifier = mapclassify.HeadTailBreaks(n_segments)\n",
        "\n",
        "  # Get classification details\n",
        "  class_intervals = classifier.bins  # Class boundaries\n",
        "  counts = classifier.counts         # Number of features in each class\n",
        "  labels = classifier.yb             # Class labels for each feature\n",
        "\n",
        "  # Save classification output to a text file\n",
        "  classifier_path = os.path.join(folderPath, f\"map_classifier_output_{cityName}.txt\")\n",
        "\n",
        "  with open(classifier_path, \"w\") as file:\n",
        "      file.write(\"HeadTailBreaks Classification\\n\")\n",
        "      file.write(\"================================\\n\")\n",
        "      file.write(\"Class Intervals:\\n\")\n",
        "      file.write(\", \".join(f\"{b:.2f}\" for b in class_intervals) + \"\\n\\n\")\n",
        "      file.write(\"Counts in Each Class:\\n\")\n",
        "      file.write(\", \".join(str(c) for c in counts) + \"\\n\\n\")\n",
        "\n",
        "  print(f\"Classifier output saved to {classifier_path}\")\n",
        "\n",
        "  # Show the classifier (lower and upper bounds plus count)\n",
        "  print(classifier)\n",
        "\n",
        "  bandung_stroke_gdf.plot(\n",
        "      figsize=(15, 15),\n",
        "      cmap=\"viridis_r\",\n",
        "      column=\"n_segments\",\n",
        "      legend=True,\n",
        "      scheme=\"headtailbreaks\",\n",
        "  ).set_axis_off()\n",
        "\n",
        "  output_path_figure = os.path.join(folderPath, f\"figure_{cityName}.png\")\n",
        "  plt.savefig(output_path_figure, dpi=600, bbox_inches=\"tight\")\n",
        "\n",
        "  print(f\"Plot for {cityName} saved to {output_path_figure}\")\n",
        "\n",
        "  plt.clf() # clear existing plot and make space for a new one\n",
        "  # Histogram for n_segments\n",
        "\n",
        "  bandung_stroke_gdf['n_segments'].plot(kind='hist', bins=40, title='n_segments')\n",
        "  plt.gca().spines[['top', 'right',]].set_visible(False)\n",
        "  output_path_histogram = os.path.join(folderPath, f\"histogram_{cityName}.png\")\n",
        "  plt.savefig(output_path_histogram, dpi=300, bbox_inches=\"tight\")\n",
        "  print(f\"Histogram for {cityName} saved to {output_path_histogram}\")"
      ],
      "metadata": {
        "id": "3PHRo9z2-q_m"
      },
      "execution_count": null,
      "outputs": []
    },
    {
      "cell_type": "code",
      "source": [
        "# Mount Google Drive\n",
        "from google.colab import drive\n",
        "drive.mount('/content/drive')\n",
        "\n",
        "# Load shp file with all the polygons\n",
        "all_pol = gpd.read_file(\"/content/drive/MyDrive/spatialanalysis/all_pol/all_cities_wgs84.shp\")\n",
        "\n",
        "base_folder = \"output_polygons\"\n",
        "os.makedirs(base_folder, exist_ok=True)  # Create base folder if it doesn't exist\n",
        "\n",
        "# Iterate through each polygon and create a new GeoDataFrame\n",
        "for index, row in all_pol.iterrows():\n",
        "\n",
        "    # Define the folder name for the current polygon\n",
        "    polygon_folder = os.path.join(base_folder, f\"polygon_{index}\")\n",
        "    os.makedirs(polygon_folder, exist_ok=True)  # Create folder if it doesn't exist\n",
        "\n",
        "    # Create a new GeoDataFrame for the current polygon\n",
        "    new_gdf = gpd.GeoDataFrame(\n",
        "        [row],\n",
        "        columns=all_pol.columns,\n",
        "        crs=all_pol.crs  # Retain the original CRS\n",
        "    )\n",
        "    polygon = new_gdf.geometry.iloc[0]  # Extract the Polygon/MultiPolygon geometry\n",
        "\n",
        "    # Save or process the new GeoDataFrame\n",
        "    print(f\"New GeoDataFrame for polygon at index {index} is loaded\")\n",
        "\n",
        "    naturalCities(polygon,polygon_folder,index)\n",
        "\n",
        "\n",
        "\n"
      ],
      "metadata": {
        "id": "JuCM8eBTNlhO"
      },
      "execution_count": null,
      "outputs": []
    }
  ]
}